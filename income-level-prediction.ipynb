{
 "cells": [
  {
   "cell_type": "markdown",
   "id": "ddc42108",
   "metadata": {},
   "source": [
    "# Udacity Machine Learning Engineer Nanodegree Capstone Project \n",
    "\n",
    "## Income Level Classifier"
   ]
  },
  {
   "cell_type": "code",
   "execution_count": 1,
   "id": "97dc7703",
   "metadata": {},
   "outputs": [],
   "source": [
    "# Import Required Libraries\n",
    "import pandas as pd\n",
    "import matplotlib.pyplot as plt\n",
    "import numpy as np\n",
    "import seaborn as sns\n",
    "\n",
    "from sklearn.model_selection import train_test_split\n",
    "from sklearn.preprocessing import OneHotEncoder\n",
    "from sklearn.preprocessing import MinMaxScaler\n",
    "\n",
    "from sklearn.ensemble import RandomForestClassifier\n",
    "from sklearn.ensemble import AdaBoostClassifier\n",
    "from sklearn.ensemble import GradientBoostingClassifier\n",
    "\n",
    "from sklearn.model_selection import train_test_split\n",
    "from sklearn.model_selection import GridSearchCV, RandomizedSearchCV\n",
    "from sklearn.metrics import roc_auc_score, accuracy_score, roc_curve\n",
    "from sklearn.metrics import classification_report, confusion_matrix\n",
    "from sklearn.metrics import precision_score, recall_score, f1_score\n",
    "from sklearn.metrics import plot_confusion_matrix\n",
    "from sklearn.preprocessing import MinMaxScaler, StandardScaler\n",
    "\n",
    "from imblearn.over_sampling import SMOTE\n",
    "\n",
    "# This module contains helper functions for exploring and preprocessing data\n",
    "import utils\n",
    "\n",
    "import warnings\n",
    "warnings.filterwarnings('ignore')"
   ]
  },
  {
   "cell_type": "markdown",
   "id": "268258fd",
   "metadata": {},
   "source": [
    "## 1. Exploratory Data Analysis\n",
    "### Loading and Visualising The Dataset\n",
    "\n",
    "Train and test data sets are in different files. I have loaded these data files separately and then combined train and test data sets into a single pandas DataFrame in order to make things simpler during exploratory data analysis step."
   ]
  },
  {
   "cell_type": "code",
   "execution_count": 2,
   "id": "fa040107",
   "metadata": {},
   "outputs": [
    {
     "data": {
      "text/html": [
       "<div>\n",
       "<style scoped>\n",
       "    .dataframe tbody tr th:only-of-type {\n",
       "        vertical-align: middle;\n",
       "    }\n",
       "\n",
       "    .dataframe tbody tr th {\n",
       "        vertical-align: top;\n",
       "    }\n",
       "\n",
       "    .dataframe thead th {\n",
       "        text-align: right;\n",
       "    }\n",
       "</style>\n",
       "<table border=\"1\" class=\"dataframe\">\n",
       "  <thead>\n",
       "    <tr style=\"text-align: right;\">\n",
       "      <th></th>\n",
       "      <th>AGE</th>\n",
       "      <th>WORKCLASS</th>\n",
       "      <th>FNLWGT</th>\n",
       "      <th>EDUCATION</th>\n",
       "      <th>EDUCATION-NUM</th>\n",
       "      <th>MARITAL-STATUS</th>\n",
       "      <th>OCCUPATION</th>\n",
       "      <th>RELATIONSHIP</th>\n",
       "      <th>RACE</th>\n",
       "      <th>SEX</th>\n",
       "      <th>CAPITAL-GAIN</th>\n",
       "      <th>CAPITAL-LOSS</th>\n",
       "      <th>HOURS-PER-WEEK</th>\n",
       "      <th>NATIVE-COUNTRY</th>\n",
       "      <th>INCOME</th>\n",
       "    </tr>\n",
       "  </thead>\n",
       "  <tbody>\n",
       "    <tr>\n",
       "      <th>0</th>\n",
       "      <td>39</td>\n",
       "      <td>State-gov</td>\n",
       "      <td>77516</td>\n",
       "      <td>Bachelors</td>\n",
       "      <td>13</td>\n",
       "      <td>Never-married</td>\n",
       "      <td>Adm-clerical</td>\n",
       "      <td>Not-in-family</td>\n",
       "      <td>White</td>\n",
       "      <td>Male</td>\n",
       "      <td>2174</td>\n",
       "      <td>0</td>\n",
       "      <td>40</td>\n",
       "      <td>United-States</td>\n",
       "      <td>&lt;=50K</td>\n",
       "    </tr>\n",
       "    <tr>\n",
       "      <th>1</th>\n",
       "      <td>50</td>\n",
       "      <td>Self-emp-not-inc</td>\n",
       "      <td>83311</td>\n",
       "      <td>Bachelors</td>\n",
       "      <td>13</td>\n",
       "      <td>Married-civ-spouse</td>\n",
       "      <td>Exec-managerial</td>\n",
       "      <td>Husband</td>\n",
       "      <td>White</td>\n",
       "      <td>Male</td>\n",
       "      <td>0</td>\n",
       "      <td>0</td>\n",
       "      <td>13</td>\n",
       "      <td>United-States</td>\n",
       "      <td>&lt;=50K</td>\n",
       "    </tr>\n",
       "    <tr>\n",
       "      <th>2</th>\n",
       "      <td>38</td>\n",
       "      <td>Private</td>\n",
       "      <td>215646</td>\n",
       "      <td>HS-grad</td>\n",
       "      <td>9</td>\n",
       "      <td>Divorced</td>\n",
       "      <td>Handlers-cleaners</td>\n",
       "      <td>Not-in-family</td>\n",
       "      <td>White</td>\n",
       "      <td>Male</td>\n",
       "      <td>0</td>\n",
       "      <td>0</td>\n",
       "      <td>40</td>\n",
       "      <td>United-States</td>\n",
       "      <td>&lt;=50K</td>\n",
       "    </tr>\n",
       "    <tr>\n",
       "      <th>3</th>\n",
       "      <td>53</td>\n",
       "      <td>Private</td>\n",
       "      <td>234721</td>\n",
       "      <td>11th</td>\n",
       "      <td>7</td>\n",
       "      <td>Married-civ-spouse</td>\n",
       "      <td>Handlers-cleaners</td>\n",
       "      <td>Husband</td>\n",
       "      <td>Black</td>\n",
       "      <td>Male</td>\n",
       "      <td>0</td>\n",
       "      <td>0</td>\n",
       "      <td>40</td>\n",
       "      <td>United-States</td>\n",
       "      <td>&lt;=50K</td>\n",
       "    </tr>\n",
       "    <tr>\n",
       "      <th>4</th>\n",
       "      <td>28</td>\n",
       "      <td>Private</td>\n",
       "      <td>338409</td>\n",
       "      <td>Bachelors</td>\n",
       "      <td>13</td>\n",
       "      <td>Married-civ-spouse</td>\n",
       "      <td>Prof-specialty</td>\n",
       "      <td>Wife</td>\n",
       "      <td>Black</td>\n",
       "      <td>Female</td>\n",
       "      <td>0</td>\n",
       "      <td>0</td>\n",
       "      <td>40</td>\n",
       "      <td>Cuba</td>\n",
       "      <td>&lt;=50K</td>\n",
       "    </tr>\n",
       "  </tbody>\n",
       "</table>\n",
       "</div>"
      ],
      "text/plain": [
       "   AGE         WORKCLASS  FNLWGT  EDUCATION  EDUCATION-NUM  \\\n",
       "0   39         State-gov   77516  Bachelors             13   \n",
       "1   50  Self-emp-not-inc   83311  Bachelors             13   \n",
       "2   38           Private  215646    HS-grad              9   \n",
       "3   53           Private  234721       11th              7   \n",
       "4   28           Private  338409  Bachelors             13   \n",
       "\n",
       "       MARITAL-STATUS         OCCUPATION   RELATIONSHIP   RACE     SEX  \\\n",
       "0       Never-married       Adm-clerical  Not-in-family  White    Male   \n",
       "1  Married-civ-spouse    Exec-managerial        Husband  White    Male   \n",
       "2            Divorced  Handlers-cleaners  Not-in-family  White    Male   \n",
       "3  Married-civ-spouse  Handlers-cleaners        Husband  Black    Male   \n",
       "4  Married-civ-spouse     Prof-specialty           Wife  Black  Female   \n",
       "\n",
       "   CAPITAL-GAIN  CAPITAL-LOSS  HOURS-PER-WEEK NATIVE-COUNTRY INCOME  \n",
       "0          2174             0              40  United-States  <=50K  \n",
       "1             0             0              13  United-States  <=50K  \n",
       "2             0             0              40  United-States  <=50K  \n",
       "3             0             0              40  United-States  <=50K  \n",
       "4             0             0              40           Cuba  <=50K  "
      ]
     },
     "execution_count": 2,
     "metadata": {},
     "output_type": "execute_result"
    }
   ],
   "source": [
    "column_names = ['AGE', 'WORKCLASS', 'FNLWGT', 'EDUCATION', 'EDUCATION-NUM', 'MARITAL-STATUS', \n",
    "                'OCCUPATION', 'RELATIONSHIP', 'RACE','SEX', 'CAPITAL-GAIN', 'CAPITAL-LOSS',     \n",
    "                'HOURS-PER-WEEK', 'NATIVE-COUNTRY', 'INCOME']\n",
    "\n",
    "train_data = pd.read_csv(\"data/adult.data\", header=None, names=column_names, skipinitialspace=True)\n",
    "\n",
    "test_data = pd.read_csv(\"data/adult.test\", header=None, skiprows=1, names=column_names, skipinitialspace=True)\n",
    "\n",
    "# checking train data\n",
    "train_data.head()"
   ]
  },
  {
   "cell_type": "code",
   "execution_count": 3,
   "id": "ba8c44df",
   "metadata": {},
   "outputs": [
    {
     "data": {
      "text/html": [
       "<div>\n",
       "<style scoped>\n",
       "    .dataframe tbody tr th:only-of-type {\n",
       "        vertical-align: middle;\n",
       "    }\n",
       "\n",
       "    .dataframe tbody tr th {\n",
       "        vertical-align: top;\n",
       "    }\n",
       "\n",
       "    .dataframe thead th {\n",
       "        text-align: right;\n",
       "    }\n",
       "</style>\n",
       "<table border=\"1\" class=\"dataframe\">\n",
       "  <thead>\n",
       "    <tr style=\"text-align: right;\">\n",
       "      <th></th>\n",
       "      <th>AGE</th>\n",
       "      <th>WORKCLASS</th>\n",
       "      <th>FNLWGT</th>\n",
       "      <th>EDUCATION</th>\n",
       "      <th>EDUCATION-NUM</th>\n",
       "      <th>MARITAL-STATUS</th>\n",
       "      <th>OCCUPATION</th>\n",
       "      <th>RELATIONSHIP</th>\n",
       "      <th>RACE</th>\n",
       "      <th>SEX</th>\n",
       "      <th>CAPITAL-GAIN</th>\n",
       "      <th>CAPITAL-LOSS</th>\n",
       "      <th>HOURS-PER-WEEK</th>\n",
       "      <th>NATIVE-COUNTRY</th>\n",
       "      <th>INCOME</th>\n",
       "    </tr>\n",
       "  </thead>\n",
       "  <tbody>\n",
       "    <tr>\n",
       "      <th>0</th>\n",
       "      <td>25</td>\n",
       "      <td>Private</td>\n",
       "      <td>226802</td>\n",
       "      <td>11th</td>\n",
       "      <td>7</td>\n",
       "      <td>Never-married</td>\n",
       "      <td>Machine-op-inspct</td>\n",
       "      <td>Own-child</td>\n",
       "      <td>Black</td>\n",
       "      <td>Male</td>\n",
       "      <td>0</td>\n",
       "      <td>0</td>\n",
       "      <td>40</td>\n",
       "      <td>United-States</td>\n",
       "      <td>&lt;=50K.</td>\n",
       "    </tr>\n",
       "    <tr>\n",
       "      <th>1</th>\n",
       "      <td>38</td>\n",
       "      <td>Private</td>\n",
       "      <td>89814</td>\n",
       "      <td>HS-grad</td>\n",
       "      <td>9</td>\n",
       "      <td>Married-civ-spouse</td>\n",
       "      <td>Farming-fishing</td>\n",
       "      <td>Husband</td>\n",
       "      <td>White</td>\n",
       "      <td>Male</td>\n",
       "      <td>0</td>\n",
       "      <td>0</td>\n",
       "      <td>50</td>\n",
       "      <td>United-States</td>\n",
       "      <td>&lt;=50K.</td>\n",
       "    </tr>\n",
       "    <tr>\n",
       "      <th>2</th>\n",
       "      <td>28</td>\n",
       "      <td>Local-gov</td>\n",
       "      <td>336951</td>\n",
       "      <td>Assoc-acdm</td>\n",
       "      <td>12</td>\n",
       "      <td>Married-civ-spouse</td>\n",
       "      <td>Protective-serv</td>\n",
       "      <td>Husband</td>\n",
       "      <td>White</td>\n",
       "      <td>Male</td>\n",
       "      <td>0</td>\n",
       "      <td>0</td>\n",
       "      <td>40</td>\n",
       "      <td>United-States</td>\n",
       "      <td>&gt;50K.</td>\n",
       "    </tr>\n",
       "    <tr>\n",
       "      <th>3</th>\n",
       "      <td>44</td>\n",
       "      <td>Private</td>\n",
       "      <td>160323</td>\n",
       "      <td>Some-college</td>\n",
       "      <td>10</td>\n",
       "      <td>Married-civ-spouse</td>\n",
       "      <td>Machine-op-inspct</td>\n",
       "      <td>Husband</td>\n",
       "      <td>Black</td>\n",
       "      <td>Male</td>\n",
       "      <td>7688</td>\n",
       "      <td>0</td>\n",
       "      <td>40</td>\n",
       "      <td>United-States</td>\n",
       "      <td>&gt;50K.</td>\n",
       "    </tr>\n",
       "    <tr>\n",
       "      <th>4</th>\n",
       "      <td>18</td>\n",
       "      <td>?</td>\n",
       "      <td>103497</td>\n",
       "      <td>Some-college</td>\n",
       "      <td>10</td>\n",
       "      <td>Never-married</td>\n",
       "      <td>?</td>\n",
       "      <td>Own-child</td>\n",
       "      <td>White</td>\n",
       "      <td>Female</td>\n",
       "      <td>0</td>\n",
       "      <td>0</td>\n",
       "      <td>30</td>\n",
       "      <td>United-States</td>\n",
       "      <td>&lt;=50K.</td>\n",
       "    </tr>\n",
       "  </tbody>\n",
       "</table>\n",
       "</div>"
      ],
      "text/plain": [
       "   AGE  WORKCLASS  FNLWGT     EDUCATION  EDUCATION-NUM      MARITAL-STATUS  \\\n",
       "0   25    Private  226802          11th              7       Never-married   \n",
       "1   38    Private   89814       HS-grad              9  Married-civ-spouse   \n",
       "2   28  Local-gov  336951    Assoc-acdm             12  Married-civ-spouse   \n",
       "3   44    Private  160323  Some-college             10  Married-civ-spouse   \n",
       "4   18          ?  103497  Some-college             10       Never-married   \n",
       "\n",
       "          OCCUPATION RELATIONSHIP   RACE     SEX  CAPITAL-GAIN  CAPITAL-LOSS  \\\n",
       "0  Machine-op-inspct    Own-child  Black    Male             0             0   \n",
       "1    Farming-fishing      Husband  White    Male             0             0   \n",
       "2    Protective-serv      Husband  White    Male             0             0   \n",
       "3  Machine-op-inspct      Husband  Black    Male          7688             0   \n",
       "4                  ?    Own-child  White  Female             0             0   \n",
       "\n",
       "   HOURS-PER-WEEK NATIVE-COUNTRY  INCOME  \n",
       "0              40  United-States  <=50K.  \n",
       "1              50  United-States  <=50K.  \n",
       "2              40  United-States   >50K.  \n",
       "3              40  United-States   >50K.  \n",
       "4              30  United-States  <=50K.  "
      ]
     },
     "execution_count": 3,
     "metadata": {},
     "output_type": "execute_result"
    }
   ],
   "source": [
    "# checking test data\n",
    "test_data.head()"
   ]
  },
  {
   "attachments": {},
   "cell_type": "markdown",
   "id": "c78c9575",
   "metadata": {},
   "source": [
    "`INCOME` is the target/output variable and it is not in a binary format as it can be seen above. Another problem with this variable is that there is an inconsistency between train and test datasets. In train set it is labeled as `<=50K` and `>50K` while it is labeled as `<=50K.` and `>50K.` in test set. To facilitate the EDA process we can fix this problem at this point by making them consistent."
   ]
  },
  {
   "cell_type": "code",
   "execution_count": 4,
   "id": "375655b2",
   "metadata": {},
   "outputs": [
    {
     "name": "stdout",
     "output_type": "stream",
     "text": [
      "<class 'pandas.core.frame.DataFrame'>\n",
      "Int64Index: 48842 entries, 0 to 16280\n",
      "Data columns (total 15 columns):\n",
      " #   Column          Non-Null Count  Dtype \n",
      "---  ------          --------------  ----- \n",
      " 0   AGE             48842 non-null  int64 \n",
      " 1   WORKCLASS       48842 non-null  object\n",
      " 2   FNLWGT          48842 non-null  int64 \n",
      " 3   EDUCATION       48842 non-null  object\n",
      " 4   EDUCATION-NUM   48842 non-null  int64 \n",
      " 5   MARITAL-STATUS  48842 non-null  object\n",
      " 6   OCCUPATION      48842 non-null  object\n",
      " 7   RELATIONSHIP    48842 non-null  object\n",
      " 8   RACE            48842 non-null  object\n",
      " 9   SEX             48842 non-null  object\n",
      " 10  CAPITAL-GAIN    48842 non-null  int64 \n",
      " 11  CAPITAL-LOSS    48842 non-null  int64 \n",
      " 12  HOURS-PER-WEEK  48842 non-null  int64 \n",
      " 13  NATIVE-COUNTRY  48842 non-null  object\n",
      " 14  INCOME          48842 non-null  object\n",
      "dtypes: int64(6), object(9)\n",
      "memory usage: 6.0+ MB\n",
      "None\n",
      "\n",
      "Target variable percentage: 0.2393\n"
     ]
    },
    {
     "data": {
      "text/html": [
       "<div>\n",
       "<style scoped>\n",
       "    .dataframe tbody tr th:only-of-type {\n",
       "        vertical-align: middle;\n",
       "    }\n",
       "\n",
       "    .dataframe tbody tr th {\n",
       "        vertical-align: top;\n",
       "    }\n",
       "\n",
       "    .dataframe thead th {\n",
       "        text-align: right;\n",
       "    }\n",
       "</style>\n",
       "<table border=\"1\" class=\"dataframe\">\n",
       "  <thead>\n",
       "    <tr style=\"text-align: right;\">\n",
       "      <th></th>\n",
       "      <th>AGE</th>\n",
       "      <th>WORKCLASS</th>\n",
       "      <th>FNLWGT</th>\n",
       "      <th>EDUCATION</th>\n",
       "      <th>EDUCATION-NUM</th>\n",
       "      <th>MARITAL-STATUS</th>\n",
       "      <th>OCCUPATION</th>\n",
       "      <th>RELATIONSHIP</th>\n",
       "      <th>RACE</th>\n",
       "      <th>SEX</th>\n",
       "      <th>CAPITAL-GAIN</th>\n",
       "      <th>CAPITAL-LOSS</th>\n",
       "      <th>HOURS-PER-WEEK</th>\n",
       "      <th>NATIVE-COUNTRY</th>\n",
       "      <th>INCOME</th>\n",
       "    </tr>\n",
       "  </thead>\n",
       "  <tbody>\n",
       "    <tr>\n",
       "      <th>0</th>\n",
       "      <td>39</td>\n",
       "      <td>State-gov</td>\n",
       "      <td>77516</td>\n",
       "      <td>Bachelors</td>\n",
       "      <td>13</td>\n",
       "      <td>Never-married</td>\n",
       "      <td>Adm-clerical</td>\n",
       "      <td>Not-in-family</td>\n",
       "      <td>White</td>\n",
       "      <td>Male</td>\n",
       "      <td>2174</td>\n",
       "      <td>0</td>\n",
       "      <td>40</td>\n",
       "      <td>United-States</td>\n",
       "      <td>&lt;=50K</td>\n",
       "    </tr>\n",
       "    <tr>\n",
       "      <th>1</th>\n",
       "      <td>50</td>\n",
       "      <td>Self-emp-not-inc</td>\n",
       "      <td>83311</td>\n",
       "      <td>Bachelors</td>\n",
       "      <td>13</td>\n",
       "      <td>Married-civ-spouse</td>\n",
       "      <td>Exec-managerial</td>\n",
       "      <td>Husband</td>\n",
       "      <td>White</td>\n",
       "      <td>Male</td>\n",
       "      <td>0</td>\n",
       "      <td>0</td>\n",
       "      <td>13</td>\n",
       "      <td>United-States</td>\n",
       "      <td>&lt;=50K</td>\n",
       "    </tr>\n",
       "    <tr>\n",
       "      <th>2</th>\n",
       "      <td>38</td>\n",
       "      <td>Private</td>\n",
       "      <td>215646</td>\n",
       "      <td>HS-grad</td>\n",
       "      <td>9</td>\n",
       "      <td>Divorced</td>\n",
       "      <td>Handlers-cleaners</td>\n",
       "      <td>Not-in-family</td>\n",
       "      <td>White</td>\n",
       "      <td>Male</td>\n",
       "      <td>0</td>\n",
       "      <td>0</td>\n",
       "      <td>40</td>\n",
       "      <td>United-States</td>\n",
       "      <td>&lt;=50K</td>\n",
       "    </tr>\n",
       "    <tr>\n",
       "      <th>3</th>\n",
       "      <td>53</td>\n",
       "      <td>Private</td>\n",
       "      <td>234721</td>\n",
       "      <td>11th</td>\n",
       "      <td>7</td>\n",
       "      <td>Married-civ-spouse</td>\n",
       "      <td>Handlers-cleaners</td>\n",
       "      <td>Husband</td>\n",
       "      <td>Black</td>\n",
       "      <td>Male</td>\n",
       "      <td>0</td>\n",
       "      <td>0</td>\n",
       "      <td>40</td>\n",
       "      <td>United-States</td>\n",
       "      <td>&lt;=50K</td>\n",
       "    </tr>\n",
       "    <tr>\n",
       "      <th>4</th>\n",
       "      <td>28</td>\n",
       "      <td>Private</td>\n",
       "      <td>338409</td>\n",
       "      <td>Bachelors</td>\n",
       "      <td>13</td>\n",
       "      <td>Married-civ-spouse</td>\n",
       "      <td>Prof-specialty</td>\n",
       "      <td>Wife</td>\n",
       "      <td>Black</td>\n",
       "      <td>Female</td>\n",
       "      <td>0</td>\n",
       "      <td>0</td>\n",
       "      <td>40</td>\n",
       "      <td>Cuba</td>\n",
       "      <td>&lt;=50K</td>\n",
       "    </tr>\n",
       "  </tbody>\n",
       "</table>\n",
       "</div>"
      ],
      "text/plain": [
       "   AGE         WORKCLASS  FNLWGT  EDUCATION  EDUCATION-NUM  \\\n",
       "0   39         State-gov   77516  Bachelors             13   \n",
       "1   50  Self-emp-not-inc   83311  Bachelors             13   \n",
       "2   38           Private  215646    HS-grad              9   \n",
       "3   53           Private  234721       11th              7   \n",
       "4   28           Private  338409  Bachelors             13   \n",
       "\n",
       "       MARITAL-STATUS         OCCUPATION   RELATIONSHIP   RACE     SEX  \\\n",
       "0       Never-married       Adm-clerical  Not-in-family  White    Male   \n",
       "1  Married-civ-spouse    Exec-managerial        Husband  White    Male   \n",
       "2            Divorced  Handlers-cleaners  Not-in-family  White    Male   \n",
       "3  Married-civ-spouse  Handlers-cleaners        Husband  Black    Male   \n",
       "4  Married-civ-spouse     Prof-specialty           Wife  Black  Female   \n",
       "\n",
       "   CAPITAL-GAIN  CAPITAL-LOSS  HOURS-PER-WEEK NATIVE-COUNTRY INCOME  \n",
       "0          2174             0              40  United-States  <=50K  \n",
       "1             0             0              13  United-States  <=50K  \n",
       "2             0             0              40  United-States  <=50K  \n",
       "3             0             0              40  United-States  <=50K  \n",
       "4             0             0              40           Cuba  <=50K  "
      ]
     },
     "execution_count": 4,
     "metadata": {},
     "output_type": "execute_result"
    }
   ],
   "source": [
    "test_data[\"INCOME\"] = test_data['INCOME'].apply(lambda x: '<=50K' if x=='<=50K.' else '>50K')\n",
    "\n",
    "data_df = pd.concat([train_data, test_data])\n",
    "\n",
    "print(data_df.info())\n",
    "\n",
    "# Checking the percentage of target variable (income)\n",
    "print(f\"\\nTarget variable percentage: {utils.check_class_balance(data_df, 'INCOME'):.4f}\")\n",
    "\n",
    "# Visualising data\n",
    "data_df.head()"
   ]
  },
  {
   "cell_type": "markdown",
   "id": "8ee9ebbe",
   "metadata": {},
   "source": [
    "There are 48842 data points with 15 columns including target column.\n",
    "\n",
    "At first glance at the dataset, it seems that there are both numerical (`int64`) and categorical (object-`string`) variables and also it looks like none of the variables have missing values. \n",
    "\n",
    "Also by calculating the the fraction of all data points that have a 'Class' label of 1 - income more than $50K - it is understood that the data is imbalanced. This may result in overfitting towards data labeled as 0, which accounts for some false negatives; cases in which data labeled (1) is incorrectly predicted as labeled (0). Even if a model labels all of the data as 0, it will still have 76% accuracy. We must take this issue to account while developing the model and choosing the performance evaluation metrics.\n",
    "\n",
    "\n",
    "\n",
    "We should move forward with in-depth analysis of the variables to see if these first impressions are valid or not."
   ]
  },
  {
   "cell_type": "markdown",
   "id": "27f42e93",
   "metadata": {},
   "source": [
    "### Categorical Variables"
   ]
  },
  {
   "cell_type": "code",
   "execution_count": 5,
   "id": "eef9423c",
   "metadata": {},
   "outputs": [
    {
     "name": "stdout",
     "output_type": "stream",
     "text": [
      "Number of categorical variables: 9\n"
     ]
    },
    {
     "data": {
      "text/html": [
       "<div>\n",
       "<style scoped>\n",
       "    .dataframe tbody tr th:only-of-type {\n",
       "        vertical-align: middle;\n",
       "    }\n",
       "\n",
       "    .dataframe tbody tr th {\n",
       "        vertical-align: top;\n",
       "    }\n",
       "\n",
       "    .dataframe thead th {\n",
       "        text-align: right;\n",
       "    }\n",
       "</style>\n",
       "<table border=\"1\" class=\"dataframe\">\n",
       "  <thead>\n",
       "    <tr style=\"text-align: right;\">\n",
       "      <th></th>\n",
       "      <th>WORKCLASS</th>\n",
       "      <th>EDUCATION</th>\n",
       "      <th>MARITAL-STATUS</th>\n",
       "      <th>OCCUPATION</th>\n",
       "      <th>RELATIONSHIP</th>\n",
       "      <th>RACE</th>\n",
       "      <th>SEX</th>\n",
       "      <th>NATIVE-COUNTRY</th>\n",
       "      <th>INCOME</th>\n",
       "    </tr>\n",
       "  </thead>\n",
       "  <tbody>\n",
       "    <tr>\n",
       "      <th>0</th>\n",
       "      <td>State-gov</td>\n",
       "      <td>Bachelors</td>\n",
       "      <td>Never-married</td>\n",
       "      <td>Adm-clerical</td>\n",
       "      <td>Not-in-family</td>\n",
       "      <td>White</td>\n",
       "      <td>Male</td>\n",
       "      <td>United-States</td>\n",
       "      <td>&lt;=50K</td>\n",
       "    </tr>\n",
       "    <tr>\n",
       "      <th>1</th>\n",
       "      <td>Self-emp-not-inc</td>\n",
       "      <td>Bachelors</td>\n",
       "      <td>Married-civ-spouse</td>\n",
       "      <td>Exec-managerial</td>\n",
       "      <td>Husband</td>\n",
       "      <td>White</td>\n",
       "      <td>Male</td>\n",
       "      <td>United-States</td>\n",
       "      <td>&lt;=50K</td>\n",
       "    </tr>\n",
       "    <tr>\n",
       "      <th>2</th>\n",
       "      <td>Private</td>\n",
       "      <td>HS-grad</td>\n",
       "      <td>Divorced</td>\n",
       "      <td>Handlers-cleaners</td>\n",
       "      <td>Not-in-family</td>\n",
       "      <td>White</td>\n",
       "      <td>Male</td>\n",
       "      <td>United-States</td>\n",
       "      <td>&lt;=50K</td>\n",
       "    </tr>\n",
       "    <tr>\n",
       "      <th>3</th>\n",
       "      <td>Private</td>\n",
       "      <td>11th</td>\n",
       "      <td>Married-civ-spouse</td>\n",
       "      <td>Handlers-cleaners</td>\n",
       "      <td>Husband</td>\n",
       "      <td>Black</td>\n",
       "      <td>Male</td>\n",
       "      <td>United-States</td>\n",
       "      <td>&lt;=50K</td>\n",
       "    </tr>\n",
       "    <tr>\n",
       "      <th>4</th>\n",
       "      <td>Private</td>\n",
       "      <td>Bachelors</td>\n",
       "      <td>Married-civ-spouse</td>\n",
       "      <td>Prof-specialty</td>\n",
       "      <td>Wife</td>\n",
       "      <td>Black</td>\n",
       "      <td>Female</td>\n",
       "      <td>Cuba</td>\n",
       "      <td>&lt;=50K</td>\n",
       "    </tr>\n",
       "  </tbody>\n",
       "</table>\n",
       "</div>"
      ],
      "text/plain": [
       "          WORKCLASS  EDUCATION      MARITAL-STATUS         OCCUPATION  \\\n",
       "0         State-gov  Bachelors       Never-married       Adm-clerical   \n",
       "1  Self-emp-not-inc  Bachelors  Married-civ-spouse    Exec-managerial   \n",
       "2           Private    HS-grad            Divorced  Handlers-cleaners   \n",
       "3           Private       11th  Married-civ-spouse  Handlers-cleaners   \n",
       "4           Private  Bachelors  Married-civ-spouse     Prof-specialty   \n",
       "\n",
       "    RELATIONSHIP   RACE     SEX NATIVE-COUNTRY INCOME  \n",
       "0  Not-in-family  White    Male  United-States  <=50K  \n",
       "1        Husband  White    Male  United-States  <=50K  \n",
       "2  Not-in-family  White    Male  United-States  <=50K  \n",
       "3        Husband  Black    Male  United-States  <=50K  \n",
       "4           Wife  Black  Female           Cuba  <=50K  "
      ]
     },
     "execution_count": 5,
     "metadata": {},
     "output_type": "execute_result"
    }
   ],
   "source": [
    "# make a list of categorical variables\n",
    "cat_vars = utils.check_var_types(data_df, \"categorical\")      \n",
    "\n",
    "# visualise the categorical variables\n",
    "data_df[cat_vars].head()"
   ]
  },
  {
   "cell_type": "markdown",
   "id": "e6cc1f5a",
   "metadata": {},
   "source": [
    "#### Cardinality of the Categorical Variables"
   ]
  },
  {
   "cell_type": "code",
   "execution_count": 6,
   "id": "92016e93",
   "metadata": {},
   "outputs": [
    {
     "name": "stdout",
     "output_type": "stream",
     "text": [
      "Variable: WORKCLASS - Number of unique values: 9\n",
      "Unique values:\n",
      "['State-gov' 'Self-emp-not-inc' 'Private' 'Federal-gov' 'Local-gov' '?'\n",
      " 'Self-emp-inc' 'Without-pay' 'Never-worked']\n",
      "\n",
      "Variable: EDUCATION - Number of unique values: 16\n",
      "Unique values:\n",
      "['Bachelors' 'HS-grad' '11th' 'Masters' '9th' 'Some-college' 'Assoc-acdm'\n",
      " 'Assoc-voc' '7th-8th' 'Doctorate' 'Prof-school' '5th-6th' '10th'\n",
      " '1st-4th' 'Preschool' '12th']\n",
      "\n",
      "Variable: MARITAL-STATUS - Number of unique values: 7\n",
      "Unique values:\n",
      "['Never-married' 'Married-civ-spouse' 'Divorced' 'Married-spouse-absent'\n",
      " 'Separated' 'Married-AF-spouse' 'Widowed']\n",
      "\n",
      "Variable: OCCUPATION - Number of unique values: 15\n",
      "Unique values:\n",
      "['Adm-clerical' 'Exec-managerial' 'Handlers-cleaners' 'Prof-specialty'\n",
      " 'Other-service' 'Sales' 'Craft-repair' 'Transport-moving'\n",
      " 'Farming-fishing' 'Machine-op-inspct' 'Tech-support' '?'\n",
      " 'Protective-serv' 'Armed-Forces' 'Priv-house-serv']\n",
      "\n",
      "Variable: RELATIONSHIP - Number of unique values: 6\n",
      "Unique values:\n",
      "['Not-in-family' 'Husband' 'Wife' 'Own-child' 'Unmarried' 'Other-relative']\n",
      "\n",
      "Variable: RACE - Number of unique values: 5\n",
      "Unique values:\n",
      "['White' 'Black' 'Asian-Pac-Islander' 'Amer-Indian-Eskimo' 'Other']\n",
      "\n",
      "Variable: SEX - Number of unique values: 2\n",
      "Unique values:\n",
      "['Male' 'Female']\n",
      "\n",
      "Variable: NATIVE-COUNTRY - Number of unique values: 42\n",
      "Unique values:\n",
      "['United-States' 'Cuba' 'Jamaica' 'India' '?' 'Mexico' 'South'\n",
      " 'Puerto-Rico' 'Honduras' 'England' 'Canada' 'Germany' 'Iran'\n",
      " 'Philippines' 'Italy' 'Poland' 'Columbia' 'Cambodia' 'Thailand' 'Ecuador'\n",
      " 'Laos' 'Taiwan' 'Haiti' 'Portugal' 'Dominican-Republic' 'El-Salvador'\n",
      " 'France' 'Guatemala' 'China' 'Japan' 'Yugoslavia' 'Peru'\n",
      " 'Outlying-US(Guam-USVI-etc)' 'Scotland' 'Trinadad&Tobago' 'Greece'\n",
      " 'Nicaragua' 'Vietnam' 'Hong' 'Ireland' 'Hungary' 'Holand-Netherlands']\n",
      "\n",
      "Variable: INCOME - Number of unique values: 2\n",
      "Unique values:\n",
      "['<=50K' '>50K']\n",
      "\n"
     ]
    }
   ],
   "source": [
    "# Checking the values for each categorical variable\n",
    "utils.check_unique_values(data_df[cat_vars])"
   ]
  },
  {
   "cell_type": "markdown",
   "id": "19ac9bd8",
   "metadata": {},
   "source": [
    "Compared to the amount of data we have, it can be said that most of the variables show low cardinality, that is, they don't have many different labels. The `NATIVE-COUNTRY` column has a relatively high number of labels and it might be good to analyse this variable deeper.\n",
    "\n",
    "When we look at the unique values, for some columns there are '?' values. This means that actually we have some missing values to handle. \n",
    "\n",
    "We can continue with analysing missing values and frequency of labels for each categorical variable. "
   ]
  },
  {
   "cell_type": "markdown",
   "id": "b1a88212",
   "metadata": {},
   "source": [
    "#### Missing Values"
   ]
  },
  {
   "cell_type": "code",
   "execution_count": 7,
   "id": "8ff0e58a",
   "metadata": {},
   "outputs": [
    {
     "data": {
      "text/plain": [
       "WORKCLASS         0.057307\n",
       "OCCUPATION        0.057512\n",
       "NATIVE-COUNTRY    0.017546\n",
       "dtype: float64"
      ]
     },
     "execution_count": 7,
     "metadata": {},
     "output_type": "execute_result"
    }
   ],
   "source": [
    "# create a data frame with missing values\n",
    "data_df_with_na = data_df.copy()\n",
    "\n",
    "for var in data_df_with_na.columns.tolist():\n",
    "    data_df_with_na.loc[data_df_with_na[var]=='?', var] = np.nan\n",
    "    train_data.loc[train_data[var]=='?', var] = np.nan\n",
    "    test_data.loc[test_data[var]=='?', var] = np.nan\n",
    "\n",
    "# make a list of the variables that contain missing values\n",
    "vars_with_na = [var for var in data_df_with_na.columns if data_df_with_na[var].isnull().sum() > 0]\n",
    "\n",
    "# determine percentage and number of missing values\n",
    "data_df_with_na[vars_with_na].isnull().mean()"
   ]
  },
  {
   "cell_type": "markdown",
   "id": "4436208c",
   "metadata": {},
   "source": [
    "Another dataframe is created which contains null values instead of '?'. From this dataframe we can see that only 3 categorical variables have missing values."
   ]
  },
  {
   "cell_type": "markdown",
   "id": "47fff7b3",
   "metadata": {},
   "source": [
    "#### Rare  Labels"
   ]
  },
  {
   "cell_type": "code",
   "execution_count": 8,
   "id": "9a2f0088",
   "metadata": {},
   "outputs": [
    {
     "name": "stdout",
     "output_type": "stream",
     "text": [
      "WORKCLASS\n",
      "Never-worked    0.000205\n",
      "Without-pay     0.000430\n",
      "Rares / All Labels Count: 2/9\n",
      "\n",
      "EDUCATION\n",
      "1st-4th      0.005057\n",
      "Preschool    0.001699\n",
      "Rares / All Labels Count: 2/16\n",
      "\n",
      "MARITAL-STATUS\n",
      "Married-AF-spouse    0.000758\n",
      "Rares / All Labels Count: 1/7\n",
      "\n",
      "OCCUPATION\n",
      "Armed-Forces       0.000307\n",
      "Priv-house-serv    0.004955\n",
      "Rares / All Labels Count: 2/15\n",
      "\n",
      "RELATIONSHIP\n",
      "No Rare Labels\n",
      "\n",
      "RACE\n",
      "Amer-Indian-Eskimo    0.009623\n",
      "Other                 0.008313\n",
      "Rares / All Labels Count: 2/5\n",
      "\n",
      "SEX\n",
      "No Rare Labels\n",
      "\n",
      "NATIVE-COUNTRY\n",
      "Cambodia                      0.000573\n",
      "Canada                        0.003726\n",
      "China                         0.002498\n",
      "Columbia                      0.001740\n",
      "Cuba                          0.002825\n",
      "Dominican-Republic            0.002109\n",
      "Ecuador                       0.000921\n",
      "El-Salvador                   0.003173\n",
      "England                       0.002600\n",
      "France                        0.000778\n",
      "Germany                       0.004218\n",
      "Greece                        0.001003\n",
      "Guatemala                     0.001802\n",
      "Haiti                         0.001536\n",
      "Holand-Netherlands            0.000020\n",
      "Honduras                      0.000409\n",
      "Hong                          0.000614\n",
      "Hungary                       0.000389\n",
      "India                         0.003092\n",
      "Iran                          0.001208\n",
      "Ireland                       0.000758\n",
      "Italy                         0.002150\n",
      "Jamaica                       0.002170\n",
      "Japan                         0.001884\n",
      "Laos                          0.000471\n",
      "Nicaragua                     0.001003\n",
      "Outlying-US(Guam-USVI-etc)    0.000471\n",
      "Peru                          0.000942\n",
      "Philippines                   0.006040\n",
      "Poland                        0.001781\n",
      "Portugal                      0.001372\n",
      "Puerto-Rico                   0.003767\n",
      "Scotland                      0.000430\n",
      "South                         0.002355\n",
      "Taiwan                        0.001331\n",
      "Thailand                      0.000614\n",
      "Trinadad&Tobago               0.000553\n",
      "Vietnam                       0.001761\n",
      "Yugoslavia                    0.000471\n",
      "Rares / All Labels Count: 39/42\n",
      "\n",
      "INCOME\n",
      "No Rare Labels\n",
      "\n"
     ]
    }
   ],
   "source": [
    "for var in cat_vars:\n",
    "    rares = utils.analyse_rare_labels(data_df, var, 0.01)"
   ]
  },
  {
   "cell_type": "markdown",
   "id": "5dac5f20",
   "metadata": {},
   "source": [
    "Some of the categorical variables show multiple labels that are present in less than 1% of the houses. Labels that are under-represented in the dataset tend to cause over-fitting of machine learning models. Hence these labels will be handled during feature engineering."
   ]
  },
  {
   "cell_type": "markdown",
   "id": "54354533",
   "metadata": {},
   "source": [
    "#### Relationship Between Categorical Variables and the Target Variable\n",
    "\n",
    "We can visualize the relationship between categorical variables and the target variable."
   ]
  },
  {
   "cell_type": "code",
   "execution_count": 9,
   "id": "3d059a66",
   "metadata": {},
   "outputs": [
    {
     "data": {
      "image/png": "[encoded data removed]",
      "text/plain": [
       "<Figure size 1080x288 with 1 Axes>"
      ]
     },
     "metadata": {
      "needs_background": "light"
     },
     "output_type": "display_data"
    },
    {
     "data": {
      "image/png": "[encoded data removed]",
      "text/plain": [
       "<Figure size 1080x288 with 1 Axes>"
      ]
     },
     "metadata": {
      "needs_background": "light"
     },
     "output_type": "display_data"
    },
    {
     "data": {
      "image/png": "[encoded data removed]",
      "text/plain": [
       "<Figure size 1080x288 with 1 Axes>"
      ]
     },
     "metadata": {
      "needs_background": "light"
     },
     "output_type": "display_data"
    },
    {
     "data": {
      "image/png": "[encoded data removed]",
      "text/plain": [
       "<Figure size 1080x288 with 1 Axes>"
      ]
     },
     "metadata": {
      "needs_background": "light"
     },
     "output_type": "display_data"
    },
    {
     "data": {
      "image/png": "[encoded data removed]",
      "text/plain": [
       "<Figure size 1080x288 with 1 Axes>"
      ]
     },
     "metadata": {
      "needs_background": "light"
     },
     "output_type": "display_data"
    },
    {
     "data": {
      "image/png": "[encoded data removed]",
      "text/plain": [
       "<Figure size 1080x288 with 1 Axes>"
      ]
     },
     "metadata": {
      "needs_background": "light"
     },
     "output_type": "display_data"
    },
    {
     "data": {
      "image/png": "[encoded data removed]",
      "text/plain": [
       "<Figure size 1080x288 with 1 Axes>"
      ]
     },
     "metadata": {
      "needs_background": "light"
     },
     "output_type": "display_data"
    },
    {
     "data": {
      "image/png": "[encoded data removed]",
      "text/plain": [
       "<Figure size 1080x288 with 1 Axes>"
      ]
     },
     "metadata": {
      "needs_background": "light"
     },
     "output_type": "display_data"
    },
    {
     "data": {
      "image/png": "[encoded data removed]",
      "text/plain": [
       "<Figure size 1080x288 with 1 Axes>"
      ]
     },
     "metadata": {
      "needs_background": "light"
     },
     "output_type": "display_data"
    }
   ],
   "source": [
    "for var in cat_vars:\n",
    "    plt.figure(figsize=(15,4))\n",
    "    if var in (\"NATIVE-COUNTRY\", \"EDUCATION\", \"OCCUPATION\"):\n",
    "        plt.xticks(rotation=90)\n",
    "    sns.countplot(data=data_df, x=var, hue=\"INCOME\", palette=\"Set3\")\n",
    "    plt.show()"
   ]
  },
  {
   "cell_type": "markdown",
   "id": "a43cee76",
   "metadata": {},
   "source": [
    "### Numerical Variables"
   ]
  },
  {
   "cell_type": "code",
   "execution_count": 10,
   "id": "f21d10e7",
   "metadata": {},
   "outputs": [
    {
     "name": "stdout",
     "output_type": "stream",
     "text": [
      "Number of numerical variables: 6\n"
     ]
    },
    {
     "data": {
      "text/html": [
       "<div>\n",
       "<style scoped>\n",
       "    .dataframe tbody tr th:only-of-type {\n",
       "        vertical-align: middle;\n",
       "    }\n",
       "\n",
       "    .dataframe tbody tr th {\n",
       "        vertical-align: top;\n",
       "    }\n",
       "\n",
       "    .dataframe thead th {\n",
       "        text-align: right;\n",
       "    }\n",
       "</style>\n",
       "<table border=\"1\" class=\"dataframe\">\n",
       "  <thead>\n",
       "    <tr style=\"text-align: right;\">\n",
       "      <th></th>\n",
       "      <th>AGE</th>\n",
       "      <th>FNLWGT</th>\n",
       "      <th>EDUCATION-NUM</th>\n",
       "      <th>CAPITAL-GAIN</th>\n",
       "      <th>CAPITAL-LOSS</th>\n",
       "      <th>HOURS-PER-WEEK</th>\n",
       "    </tr>\n",
       "  </thead>\n",
       "  <tbody>\n",
       "    <tr>\n",
       "      <th>0</th>\n",
       "      <td>39</td>\n",
       "      <td>77516</td>\n",
       "      <td>13</td>\n",
       "      <td>2174</td>\n",
       "      <td>0</td>\n",
       "      <td>40</td>\n",
       "    </tr>\n",
       "    <tr>\n",
       "      <th>1</th>\n",
       "      <td>50</td>\n",
       "      <td>83311</td>\n",
       "      <td>13</td>\n",
       "      <td>0</td>\n",
       "      <td>0</td>\n",
       "      <td>13</td>\n",
       "    </tr>\n",
       "    <tr>\n",
       "      <th>2</th>\n",
       "      <td>38</td>\n",
       "      <td>215646</td>\n",
       "      <td>9</td>\n",
       "      <td>0</td>\n",
       "      <td>0</td>\n",
       "      <td>40</td>\n",
       "    </tr>\n",
       "    <tr>\n",
       "      <th>3</th>\n",
       "      <td>53</td>\n",
       "      <td>234721</td>\n",
       "      <td>7</td>\n",
       "      <td>0</td>\n",
       "      <td>0</td>\n",
       "      <td>40</td>\n",
       "    </tr>\n",
       "    <tr>\n",
       "      <th>4</th>\n",
       "      <td>28</td>\n",
       "      <td>338409</td>\n",
       "      <td>13</td>\n",
       "      <td>0</td>\n",
       "      <td>0</td>\n",
       "      <td>40</td>\n",
       "    </tr>\n",
       "  </tbody>\n",
       "</table>\n",
       "</div>"
      ],
      "text/plain": [
       "   AGE  FNLWGT  EDUCATION-NUM  CAPITAL-GAIN  CAPITAL-LOSS  HOURS-PER-WEEK\n",
       "0   39   77516             13          2174             0              40\n",
       "1   50   83311             13             0             0              13\n",
       "2   38  215646              9             0             0              40\n",
       "3   53  234721              7             0             0              40\n",
       "4   28  338409             13             0             0              40"
      ]
     },
     "execution_count": 10,
     "metadata": {},
     "output_type": "execute_result"
    }
   ],
   "source": [
    "# make a list of categorical variables\n",
    "num_vars = utils.check_var_types(data_df, \"numerical\")      \n",
    "\n",
    "# visualise the numerical variables\n",
    "data_df[num_vars].head()"
   ]
  },
  {
   "cell_type": "markdown",
   "id": "2d481ee2",
   "metadata": {},
   "source": [
    "Checking unique values for each numerical variable."
   ]
  },
  {
   "cell_type": "code",
   "execution_count": 11,
   "id": "2d7d5d6f",
   "metadata": {},
   "outputs": [
    {
     "name": "stdout",
     "output_type": "stream",
     "text": [
      "Variable: AGE - Number of unique values: 74\n",
      "Variable: FNLWGT - Number of unique values: 28523\n",
      "Variable: EDUCATION-NUM - Number of unique values: 16\n",
      "Variable: CAPITAL-GAIN - Number of unique values: 123\n",
      "Variable: CAPITAL-LOSS - Number of unique values: 99\n",
      "Variable: HOURS-PER-WEEK - Number of unique values: 96\n"
     ]
    }
   ],
   "source": [
    "utils.check_unique_values(data_df[num_vars], verbose=False)"
   ]
  },
  {
   "cell_type": "markdown",
   "id": "effc7cdc",
   "metadata": {},
   "source": [
    "There might be a relationship between numerical `EDUCATION-NUM` and categorical `EDUCATION` variables. They are both about education and contains same number of unique values. When it is checked as below, we can see that they are keeping the same data in different formats.\n",
    "\n",
    "It can also be said that `EDUCATION` is an ordinal variable, it has categories with a particular order associated with it. Since `EDUCATION-NUM` already keeps the ordinal encoded data, we can drop `EDUCATION` column."
   ]
  },
  {
   "cell_type": "code",
   "execution_count": 12,
   "id": "a4d77388",
   "metadata": {},
   "outputs": [
    {
     "data": {
      "image/png": "[encoded data removed]",
      "text/plain": [
       "<Figure size 432x288 with 1 Axes>"
      ]
     },
     "metadata": {
      "needs_background": "light"
     },
     "output_type": "display_data"
    }
   ],
   "source": [
    "sns.countplot(data=data_df, x=\"EDUCATION-NUM\", hue=\"INCOME\", palette=\"Set3\")\n",
    "data_df.groupby([\"EDUCATION-NUM\", \"EDUCATION\"])[\"EDUCATION\"].count()\n",
    "\n",
    "# creating a list to keep the columns to drop\n",
    "cols_to_drop = [\"EDUCATION\"]"
   ]
  },
  {
   "cell_type": "markdown",
   "id": "03d5c948",
   "metadata": {},
   "source": [
    "#### Analysing Numerical Variables"
   ]
  },
  {
   "cell_type": "markdown",
   "id": "ed286cce",
   "metadata": {},
   "source": [
    "In order to check the correlation between numerical variables and the target variable, I added an encoded target column for income variable. Correlation Matrix of numerical variables, including target variable, can be seen below. It shows  Feature-to-Feature and Feature-to-Label Pearson Correlations.\n",
    "\n",
    "We can say that there isn't a very high linear correlation between any of numerical variables and the target variable.\n",
    "\n",
    "`FNLWGT` variable shows a negative correlation close to zero with target variable and it can be dropped."
   ]
  },
  {
   "cell_type": "code",
   "execution_count": 13,
   "id": "89698a56",
   "metadata": {},
   "outputs": [
    {
     "data": {
      "image/png": "[encoded data removed]",
      "text/plain": [
       "<Figure size 432x288 with 2 Axes>"
      ]
     },
     "metadata": {
      "needs_background": "light"
     },
     "output_type": "display_data"
    }
   ],
   "source": [
    "#Encoding the target variable\n",
    "data_df[\"TARGET\"] = data_df[\"INCOME\"].apply(lambda x: 1 if x == '>50K' else 0)\n",
    "\n",
    "num_vars.append(\"TARGET\")\n",
    "\n",
    "#Generating the correlation matrix\n",
    "corr = data_df[num_vars].corr()\n",
    "\n",
    "#Generating the correlation heat-map\n",
    "sns.heatmap(corr, annot=True, cmap=\"YlGnBu\");\n",
    "cols_to_drop.append(\"FNLWGT\")"
   ]
  },
  {
   "cell_type": "markdown",
   "id": "1082f343",
   "metadata": {},
   "source": [
    "Histograms below show that the variables are not normally distributed. To maximise the performance of models, we need to account for non-Gaussian distributions and transform these variables in the feature engineering step."
   ]
  },
  {
   "cell_type": "code",
   "execution_count": 14,
   "id": "4aa4ac89",
   "metadata": {},
   "outputs": [
    {
     "data": {
      "image/png": "[encoded data removed]",
      "text/plain": [
       "<Figure size 1440x720 with 6 Axes>"
      ]
     },
     "metadata": {
      "needs_background": "light"
     },
     "output_type": "display_data"
    }
   ],
   "source": [
    "fig, axs = plt.subplots(nrows=2, ncols=3, figsize=(20, 10))\n",
    "fig.suptitle(\"Distributions of Numerical Variables\", fontsize=15, fontweight=\"bold\")\n",
    "\n",
    "for i in range(0,6):\n",
    "    var = num_vars[i]\n",
    "    if i < 3:\n",
    "        axs[0, i].hist(data_df[var], bins=30, fc=\"#96cac1\")\n",
    "        axs[0, i].set_title(var, fontweight=\"bold\")\n",
    "        axs[0, i].set_ylabel(\"Number of Records\")\n",
    "\n",
    "    else:\n",
    "        axs[1, i-3].hist(data_df[var], bins=30, fc=\"#96cac1\")\n",
    "        axs[1, i-3].set_title(var, fontweight=\"bold\")\n",
    "        axs[1, i-3].set_ylabel(\"Number of Records\")"
   ]
  },
  {
   "cell_type": "markdown",
   "id": "706cdf65",
   "metadata": {},
   "source": [
    "## 2. Feature Engineering\n",
    "\n",
    "### Separate Dataset into Train and Test Sets\n",
    "\n",
    "After exploring data, it can be preprocessed and be made ready for modelling. But before beginning to process the data, it is important to separate the data into train and test sets. When we engineer features, some techniques learn parameters from data and this may cause data leakage from test set to train set. It is important to learn parameters only from the train set in order to avoid over-fitting. \n",
    "\n",
    "Since we already have separate DataFrames for train and test sets, we can continue with these datasets in the feature engineering step.\n",
    "\n",
    "We can start processing data with dropping columns that we have determined during exploration."
   ]
  },
  {
   "cell_type": "code",
   "execution_count": 15,
   "id": "2915f004",
   "metadata": {},
   "outputs": [
    {
     "name": "stdout",
     "output_type": "stream",
     "text": [
      "<class 'pandas.core.frame.DataFrame'>\n",
      "RangeIndex: 32561 entries, 0 to 32560\n",
      "Data columns (total 13 columns):\n",
      " #   Column          Non-Null Count  Dtype  \n",
      "---  ------          --------------  -----  \n",
      " 0   AGE             32561 non-null  float64\n",
      " 1   WORKCLASS       30725 non-null  object \n",
      " 2   EDUCATION-NUM   32561 non-null  float64\n",
      " 3   MARITAL-STATUS  32561 non-null  object \n",
      " 4   OCCUPATION      30718 non-null  object \n",
      " 5   RELATIONSHIP    32561 non-null  object \n",
      " 6   RACE            32561 non-null  object \n",
      " 7   SEX             32561 non-null  object \n",
      " 8   CAPITAL-GAIN    32561 non-null  float64\n",
      " 9   CAPITAL-LOSS    32561 non-null  float64\n",
      " 10  HOURS-PER-WEEK  32561 non-null  float64\n",
      " 11  NATIVE-COUNTRY  31978 non-null  object \n",
      " 12  INCOME          32561 non-null  object \n",
      "dtypes: float64(5), object(8)\n",
      "memory usage: 3.2+ MB\n",
      "<class 'pandas.core.frame.DataFrame'>\n",
      "RangeIndex: 16281 entries, 0 to 16280\n",
      "Data columns (total 13 columns):\n",
      " #   Column          Non-Null Count  Dtype  \n",
      "---  ------          --------------  -----  \n",
      " 0   AGE             16281 non-null  float64\n",
      " 1   WORKCLASS       15318 non-null  object \n",
      " 2   EDUCATION-NUM   16281 non-null  float64\n",
      " 3   MARITAL-STATUS  16281 non-null  object \n",
      " 4   OCCUPATION      15315 non-null  object \n",
      " 5   RELATIONSHIP    16281 non-null  object \n",
      " 6   RACE            16281 non-null  object \n",
      " 7   SEX             16281 non-null  object \n",
      " 8   CAPITAL-GAIN    16281 non-null  float64\n",
      " 9   CAPITAL-LOSS    16281 non-null  float64\n",
      " 10  HOURS-PER-WEEK  16281 non-null  float64\n",
      " 11  NATIVE-COUNTRY  16007 non-null  object \n",
      " 12  INCOME          16281 non-null  object \n",
      "dtypes: float64(5), object(8)\n",
      "memory usage: 1.6+ MB\n"
     ]
    }
   ],
   "source": [
    "# drop unnecessary columns from train and test sets\n",
    "train_data = train_data.drop(cols_to_drop, axis=1)\n",
    "train_data.info()\n",
    "\n",
    "test_data = test_data.drop(cols_to_drop, axis=1)\n",
    "test_data.info()\n",
    "\n",
    "# refresh numerical and categorical variable lists\n",
    "cat_vars = [col for col in cat_vars if col not in cols_to_drop]\n",
    "num_vars = [col for col in num_vars if col not in cols_to_drop]"
   ]
  },
  {
   "cell_type": "code",
   "execution_count": 16,
   "id": "9bc2b1bc",
   "metadata": {
    "scrolled": true
   },
   "outputs": [
    {
     "name": "stdout",
     "output_type": "stream",
     "text": [
      "\n",
      "Target variable percentage for train set: 0.2408\n",
      "\n",
      "Target variable percentage for test set: 0.2362\n",
      "\n",
      "Train set size: (32561, 14)\n",
      "Test set size: (16281, 14)\n"
     ]
    }
   ],
   "source": [
    "# generate train and test sets\n",
    "X_train = train_data\n",
    "X_test = test_data\n",
    "\n",
    "# encode the target variable\n",
    "train_data[\"TARGET\"] = train_data[\"INCOME\"].apply(lambda x: 1 if x == '>50K' else 0)\n",
    "test_data[\"TARGET\"] = test_data[\"INCOME\"].apply(lambda x: 1 if x == '>50K' else 0)\n",
    "\n",
    "y_train = train_data[\"TARGET\"]\n",
    "y_test = test_data[\"TARGET\"]\n",
    "\n",
    "# check the percentage of target variable in train & test sets\n",
    "print(f\"\\nTarget variable percentage for train set: {utils.check_class_balance(train_data, 'TARGET'):.4f}\")\n",
    "print(f\"\\nTarget variable percentage for test set: {utils.check_class_balance(test_data, 'TARGET'):.4f}\")\n",
    "\n",
    "print(f\"\\nTrain set size: {X_train.shape}\\nTest set size: {X_test.shape}\")\n"
   ]
  },
  {
   "cell_type": "markdown",
   "id": "d2b59cdf",
   "metadata": {},
   "source": [
    "### Pre-Process Categorical Variables\n",
    "\n",
    "#### Handling Missing Values\n",
    "\n",
    "Only categorical variables have missing values, there are some alternative ways to handle these. Some of them are: \n",
    "1. Dropping rows with missing values, \n",
    "2. Imputing with the most frequent category occured in variable\n",
    "3. Creating a new category for null values\n",
    "\n",
    "Each of these have both advantages and disadvantages. To prevent data loss (1. method) and not to bias the predictions in favor of most occurred category (2. method), I decided to replace missing values with the new category \"Missing\". Since the percentages of missing data is low, this method seems appropriate."
   ]
  },
  {
   "cell_type": "code",
   "execution_count": 17,
   "id": "50f7eee6",
   "metadata": {},
   "outputs": [
    {
     "name": "stdout",
     "output_type": "stream",
     "text": [
      "Checking train and test sets for missing variables:\n",
      "\n",
      "*Train\n",
      "WORKCLASS         0\n",
      "OCCUPATION        0\n",
      "NATIVE-COUNTRY    0\n",
      "dtype: int64\n",
      "\n",
      "*Test\n",
      "WORKCLASS         0\n",
      "OCCUPATION        0\n",
      "NATIVE-COUNTRY    0\n",
      "dtype: int64\n"
     ]
    }
   ],
   "source": [
    "X_train.loc[:, vars_with_na] = X_train[vars_with_na].fillna('Missing')\n",
    "X_test.loc[:, vars_with_na] = X_test[vars_with_na].fillna('Missing')\n",
    "\n",
    "print(\"Checking train and test sets for missing variables:\")\n",
    "print(f\"\\n*Train\\n{X_train[vars_with_na].isnull().sum()}\\n\\n*Test\\n{X_test[vars_with_na].isnull().sum()}\")"
   ]
  },
  {
   "cell_type": "markdown",
   "id": "6668132f",
   "metadata": {},
   "source": [
    "#### Removing Rare Labels\n",
    "\n",
    "As mentioned earlier labels that are under-represented in the dataset tend to cause over-fitting. So, after grouping those categories within variables that are present in less than 1% of the observations, they will be replaced by the string \"Rare\" if there is more than one rare label."
   ]
  },
  {
   "cell_type": "code",
   "execution_count": 18,
   "id": "318d0144",
   "metadata": {},
   "outputs": [],
   "source": [
    "for var in cat_vars:  \n",
    "    rares = utils.analyse_rare_labels(X_train, var, 0.01, verbose=False).index\n",
    "  \n",
    "    X_train[var] = np.where(X_train[var].isin(rares), 'Rare', X_train[var])\n",
    "    \n",
    "    X_test[var] = np.where(X_test[var].isin(rares), 'Rare', X_test[var])"
   ]
  },
  {
   "cell_type": "markdown",
   "id": "863056ef",
   "metadata": {},
   "source": [
    "#### Encoding Categorical Variables\n",
    "\n",
    "We need to transform the strings of the categorical variables into numbers. One-hot encoding method is used for this purpose. I used scikit-learn's `OneHotEncoder` encoder, as it can handle test data with new labels not found in training data."
   ]
  },
  {
   "cell_type": "code",
   "execution_count": 19,
   "id": "aebca2c7",
   "metadata": {},
   "outputs": [
    {
     "data": {
      "text/html": [
       "<div>\n",
       "<style scoped>\n",
       "    .dataframe tbody tr th:only-of-type {\n",
       "        vertical-align: middle;\n",
       "    }\n",
       "\n",
       "    .dataframe tbody tr th {\n",
       "        vertical-align: top;\n",
       "    }\n",
       "\n",
       "    .dataframe thead th {\n",
       "        text-align: right;\n",
       "    }\n",
       "</style>\n",
       "<table border=\"1\" class=\"dataframe\">\n",
       "  <thead>\n",
       "    <tr style=\"text-align: right;\">\n",
       "      <th></th>\n",
       "      <th>WORKCLASS_Federal-gov</th>\n",
       "      <th>WORKCLASS_Local-gov</th>\n",
       "      <th>WORKCLASS_Missing</th>\n",
       "      <th>WORKCLASS_Private</th>\n",
       "      <th>WORKCLASS_Rare</th>\n",
       "      <th>WORKCLASS_Self-emp-inc</th>\n",
       "      <th>WORKCLASS_Self-emp-not-inc</th>\n",
       "      <th>WORKCLASS_State-gov</th>\n",
       "      <th>MARITAL-STATUS_Divorced</th>\n",
       "      <th>MARITAL-STATUS_Married-civ-spouse</th>\n",
       "      <th>...</th>\n",
       "      <th>RACE_Asian-Pac-Islander</th>\n",
       "      <th>RACE_Black</th>\n",
       "      <th>RACE_Rare</th>\n",
       "      <th>RACE_White</th>\n",
       "      <th>SEX_Female</th>\n",
       "      <th>SEX_Male</th>\n",
       "      <th>NATIVE-COUNTRY_Mexico</th>\n",
       "      <th>NATIVE-COUNTRY_Missing</th>\n",
       "      <th>NATIVE-COUNTRY_Rare</th>\n",
       "      <th>NATIVE-COUNTRY_United-States</th>\n",
       "    </tr>\n",
       "  </thead>\n",
       "  <tbody>\n",
       "    <tr>\n",
       "      <th>0</th>\n",
       "      <td>0.0</td>\n",
       "      <td>0.0</td>\n",
       "      <td>0.0</td>\n",
       "      <td>0.0</td>\n",
       "      <td>0.0</td>\n",
       "      <td>0.0</td>\n",
       "      <td>0.0</td>\n",
       "      <td>1.0</td>\n",
       "      <td>0.0</td>\n",
       "      <td>0.0</td>\n",
       "      <td>...</td>\n",
       "      <td>0.0</td>\n",
       "      <td>0.0</td>\n",
       "      <td>0.0</td>\n",
       "      <td>1.0</td>\n",
       "      <td>0.0</td>\n",
       "      <td>1.0</td>\n",
       "      <td>0.0</td>\n",
       "      <td>0.0</td>\n",
       "      <td>0.0</td>\n",
       "      <td>1.0</td>\n",
       "    </tr>\n",
       "    <tr>\n",
       "      <th>1</th>\n",
       "      <td>0.0</td>\n",
       "      <td>0.0</td>\n",
       "      <td>0.0</td>\n",
       "      <td>0.0</td>\n",
       "      <td>0.0</td>\n",
       "      <td>0.0</td>\n",
       "      <td>1.0</td>\n",
       "      <td>0.0</td>\n",
       "      <td>0.0</td>\n",
       "      <td>1.0</td>\n",
       "      <td>...</td>\n",
       "      <td>0.0</td>\n",
       "      <td>0.0</td>\n",
       "      <td>0.0</td>\n",
       "      <td>1.0</td>\n",
       "      <td>0.0</td>\n",
       "      <td>1.0</td>\n",
       "      <td>0.0</td>\n",
       "      <td>0.0</td>\n",
       "      <td>0.0</td>\n",
       "      <td>1.0</td>\n",
       "    </tr>\n",
       "  </tbody>\n",
       "</table>\n",
       "<p>2 rows × 45 columns</p>\n",
       "</div>"
      ],
      "text/plain": [
       "   WORKCLASS_Federal-gov  WORKCLASS_Local-gov  WORKCLASS_Missing  \\\n",
       "0                    0.0                  0.0                0.0   \n",
       "1                    0.0                  0.0                0.0   \n",
       "\n",
       "   WORKCLASS_Private  WORKCLASS_Rare  WORKCLASS_Self-emp-inc  \\\n",
       "0                0.0             0.0                     0.0   \n",
       "1                0.0             0.0                     0.0   \n",
       "\n",
       "   WORKCLASS_Self-emp-not-inc  WORKCLASS_State-gov  MARITAL-STATUS_Divorced  \\\n",
       "0                         0.0                  1.0                      0.0   \n",
       "1                         1.0                  0.0                      0.0   \n",
       "\n",
       "   MARITAL-STATUS_Married-civ-spouse  ...  RACE_Asian-Pac-Islander  \\\n",
       "0                                0.0  ...                      0.0   \n",
       "1                                1.0  ...                      0.0   \n",
       "\n",
       "   RACE_Black  RACE_Rare  RACE_White  SEX_Female  SEX_Male  \\\n",
       "0         0.0        0.0         1.0         0.0       1.0   \n",
       "1         0.0        0.0         1.0         0.0       1.0   \n",
       "\n",
       "   NATIVE-COUNTRY_Mexico  NATIVE-COUNTRY_Missing  NATIVE-COUNTRY_Rare  \\\n",
       "0                    0.0                     0.0                  0.0   \n",
       "1                    0.0                     0.0                  0.0   \n",
       "\n",
       "   NATIVE-COUNTRY_United-States  \n",
       "0                           1.0  \n",
       "1                           1.0  \n",
       "\n",
       "[2 rows x 45 columns]"
      ]
     },
     "metadata": {},
     "output_type": "display_data"
    },
    {
     "data": {
      "text/html": [
       "<div>\n",
       "<style scoped>\n",
       "    .dataframe tbody tr th:only-of-type {\n",
       "        vertical-align: middle;\n",
       "    }\n",
       "\n",
       "    .dataframe tbody tr th {\n",
       "        vertical-align: top;\n",
       "    }\n",
       "\n",
       "    .dataframe thead th {\n",
       "        text-align: right;\n",
       "    }\n",
       "</style>\n",
       "<table border=\"1\" class=\"dataframe\">\n",
       "  <thead>\n",
       "    <tr style=\"text-align: right;\">\n",
       "      <th></th>\n",
       "      <th>WORKCLASS_Federal-gov</th>\n",
       "      <th>WORKCLASS_Local-gov</th>\n",
       "      <th>WORKCLASS_Missing</th>\n",
       "      <th>WORKCLASS_Private</th>\n",
       "      <th>WORKCLASS_Rare</th>\n",
       "      <th>WORKCLASS_Self-emp-inc</th>\n",
       "      <th>WORKCLASS_Self-emp-not-inc</th>\n",
       "      <th>WORKCLASS_State-gov</th>\n",
       "      <th>MARITAL-STATUS_Divorced</th>\n",
       "      <th>MARITAL-STATUS_Married-civ-spouse</th>\n",
       "      <th>...</th>\n",
       "      <th>RACE_Asian-Pac-Islander</th>\n",
       "      <th>RACE_Black</th>\n",
       "      <th>RACE_Rare</th>\n",
       "      <th>RACE_White</th>\n",
       "      <th>SEX_Female</th>\n",
       "      <th>SEX_Male</th>\n",
       "      <th>NATIVE-COUNTRY_Mexico</th>\n",
       "      <th>NATIVE-COUNTRY_Missing</th>\n",
       "      <th>NATIVE-COUNTRY_Rare</th>\n",
       "      <th>NATIVE-COUNTRY_United-States</th>\n",
       "    </tr>\n",
       "  </thead>\n",
       "  <tbody>\n",
       "    <tr>\n",
       "      <th>0</th>\n",
       "      <td>0.0</td>\n",
       "      <td>0.0</td>\n",
       "      <td>0.0</td>\n",
       "      <td>1.0</td>\n",
       "      <td>0.0</td>\n",
       "      <td>0.0</td>\n",
       "      <td>0.0</td>\n",
       "      <td>0.0</td>\n",
       "      <td>0.0</td>\n",
       "      <td>0.0</td>\n",
       "      <td>...</td>\n",
       "      <td>0.0</td>\n",
       "      <td>1.0</td>\n",
       "      <td>0.0</td>\n",
       "      <td>0.0</td>\n",
       "      <td>0.0</td>\n",
       "      <td>1.0</td>\n",
       "      <td>0.0</td>\n",
       "      <td>0.0</td>\n",
       "      <td>0.0</td>\n",
       "      <td>1.0</td>\n",
       "    </tr>\n",
       "    <tr>\n",
       "      <th>1</th>\n",
       "      <td>0.0</td>\n",
       "      <td>0.0</td>\n",
       "      <td>0.0</td>\n",
       "      <td>1.0</td>\n",
       "      <td>0.0</td>\n",
       "      <td>0.0</td>\n",
       "      <td>0.0</td>\n",
       "      <td>0.0</td>\n",
       "      <td>0.0</td>\n",
       "      <td>1.0</td>\n",
       "      <td>...</td>\n",
       "      <td>0.0</td>\n",
       "      <td>0.0</td>\n",
       "      <td>0.0</td>\n",
       "      <td>1.0</td>\n",
       "      <td>0.0</td>\n",
       "      <td>1.0</td>\n",
       "      <td>0.0</td>\n",
       "      <td>0.0</td>\n",
       "      <td>0.0</td>\n",
       "      <td>1.0</td>\n",
       "    </tr>\n",
       "  </tbody>\n",
       "</table>\n",
       "<p>2 rows × 45 columns</p>\n",
       "</div>"
      ],
      "text/plain": [
       "   WORKCLASS_Federal-gov  WORKCLASS_Local-gov  WORKCLASS_Missing  \\\n",
       "0                    0.0                  0.0                0.0   \n",
       "1                    0.0                  0.0                0.0   \n",
       "\n",
       "   WORKCLASS_Private  WORKCLASS_Rare  WORKCLASS_Self-emp-inc  \\\n",
       "0                1.0             0.0                     0.0   \n",
       "1                1.0             0.0                     0.0   \n",
       "\n",
       "   WORKCLASS_Self-emp-not-inc  WORKCLASS_State-gov  MARITAL-STATUS_Divorced  \\\n",
       "0                         0.0                  0.0                      0.0   \n",
       "1                         0.0                  0.0                      0.0   \n",
       "\n",
       "   MARITAL-STATUS_Married-civ-spouse  ...  RACE_Asian-Pac-Islander  \\\n",
       "0                                0.0  ...                      0.0   \n",
       "1                                1.0  ...                      0.0   \n",
       "\n",
       "   RACE_Black  RACE_Rare  RACE_White  SEX_Female  SEX_Male  \\\n",
       "0         1.0        0.0         0.0         0.0       1.0   \n",
       "1         0.0        0.0         1.0         0.0       1.0   \n",
       "\n",
       "   NATIVE-COUNTRY_Mexico  NATIVE-COUNTRY_Missing  NATIVE-COUNTRY_Rare  \\\n",
       "0                    0.0                     0.0                  0.0   \n",
       "1                    0.0                     0.0                  0.0   \n",
       "\n",
       "   NATIVE-COUNTRY_United-States  \n",
       "0                           1.0  \n",
       "1                           1.0  \n",
       "\n",
       "[2 rows x 45 columns]"
      ]
     },
     "execution_count": 19,
     "metadata": {},
     "output_type": "execute_result"
    }
   ],
   "source": [
    "X_train.drop(\"INCOME\", axis=1, inplace=True)\n",
    "X_test.drop(\"INCOME\", axis=1, inplace=True)\n",
    "cat_vars.remove(\"INCOME\")\n",
    "\n",
    "cat_encoder = OneHotEncoder(handle_unknown=\"ignore\", sparse=False)\n",
    "cat_encoded_train = cat_encoder.fit_transform(X_train[cat_vars])\n",
    "\n",
    "# get one-hot encoded variable names from encoder\n",
    "new_cat_var_names = cat_encoder.get_feature_names(cat_vars)\n",
    "\n",
    "# create a dataframe of one-hot encoded variables\n",
    "cat_encoded_train_df = pd.DataFrame(cat_encoded_train, columns=new_cat_var_names)\n",
    "display(cat_encoded_train_df.head(2))\n",
    "\n",
    "# perform one-hot encoding on test data\n",
    "# for test data encoders transform method must be used instead of fit_transform\n",
    "cat_encoded_test = cat_encoder.transform(X_test[cat_vars])\n",
    "cat_encoded_test_df = pd.DataFrame(cat_encoded_test, columns=new_cat_var_names)\n",
    "cat_encoded_test_df.head(2)"
   ]
  },
  {
   "cell_type": "markdown",
   "id": "de7f402d",
   "metadata": {},
   "source": [
    "### Pre-Process Numerical Variables\n",
    "\n",
    "#### Transformation\n",
    "\n",
    "While data exploration we observed that the numerical variables are not normally distributed. Hence, they will be log transformed in order to get a more Gaussian-like distribution."
   ]
  },
  {
   "cell_type": "code",
   "execution_count": 20,
   "id": "9769694a",
   "metadata": {},
   "outputs": [],
   "source": [
    "# before processing, dropping target column from train and test sets, \n",
    "# updating numerical variable list\n",
    "X_train.drop(\"TARGET\", axis=1, inplace=True)\n",
    "X_test.drop(\"TARGET\", axis=1, inplace=True)\n",
    "num_vars.remove(\"TARGET\")\n",
    "\n",
    "for var in num_vars:\n",
    "    X_train[var] = X_train[var].apply(lambda x: np.log(x + 1))\n",
    "    X_test[var] = X_test[var].apply(lambda x: np.log(x + 1))\n",
    "    if any(X_train[var] <= 0):\n",
    "        X_train[var] = np.log(X_train[var]+1)\n",
    "        X_test[var] = np.log(X_test[var]+1)\n",
    "    else:\n",
    "        X_train[var] = np.log(X_train[var])\n",
    "        X_test[var] = np.log(X_test[var])"
   ]
  },
  {
   "cell_type": "markdown",
   "id": "322a09f1",
   "metadata": {},
   "source": [
    "#### Scaling\n",
    "\n",
    "We need to standardize the scale of the numerical columns in order to consistently compare the values of different features. Also many machine learning models require the values to be on the same scale.  We can use a MinMaxScaler to transform the numerical values so that they all fall between 0 and 1."
   ]
  },
  {
   "cell_type": "code",
   "execution_count": 21,
   "id": "e399b2a3",
   "metadata": {},
   "outputs": [],
   "source": [
    "# create scaler\n",
    "scaler = MinMaxScaler()\n",
    "\n",
    "#  fit  the scaler to the train set\n",
    "scaler.fit(X_train[num_vars]) \n",
    "\n",
    "# transform the train and test sets\n",
    "X_train[num_vars] = scaler.transform(X_train[num_vars])\n",
    "\n",
    "X_test[num_vars] = scaler.transform(X_test[num_vars])"
   ]
  },
  {
   "cell_type": "markdown",
   "id": "2eea4d76",
   "metadata": {},
   "source": [
    "### Merge Datasets\n",
    "\n",
    "Before starting modelling we have to merge one-hot encoded dataframe with transformed and scaled numerical features and form the final train and test sets."
   ]
  },
  {
   "cell_type": "code",
   "execution_count": 22,
   "id": "87182d96",
   "metadata": {},
   "outputs": [],
   "source": [
    "X_train = pd.merge(X_train[num_vars].reset_index(), cat_encoded_train_df, left_index=True, right_index=True)\\\n",
    "            .drop('index', axis=1)\n",
    "\n",
    "X_test = pd.merge(X_test[num_vars].reset_index(), cat_encoded_test_df, left_index=True, right_index=True)\\\n",
    "            .drop('index', axis=1)"
   ]
  },
  {
   "cell_type": "markdown",
   "id": "ee266f42",
   "metadata": {},
   "source": [
    "### SMOTE for Handling Imbalanced Data\n",
    "\n",
    "One approach to deal with imbalanced datasets is oversampling the minority class. This can be achived by synthesizing new examples from the existing examples and is referred as the Synthetic Minority Over-sampling Technique - SMOTE."
   ]
  },
  {
   "cell_type": "code",
   "execution_count": 23,
   "id": "96b66658",
   "metadata": {
    "scrolled": true
   },
   "outputs": [],
   "source": [
    "X_train_balanced, y_train_balanced = SMOTE().fit_resample(X_train, y_train)"
   ]
  },
  {
   "cell_type": "markdown",
   "id": "311b4282",
   "metadata": {},
   "source": [
    "## 3. Modelling\n",
    "\n",
    "Because of the imbalance, using only accuracy for evaluation of the model would not be sufficient as the model would be prone to make false negative predictions. False negative predictions would cause a low recall value.\n",
    "\n",
    "To be able to keep both false positives and false negatives under control and to evaluate the model, we can use ROC - Receiver Operating Characteristic - Curve and AUC - Area Under the Curve - Score (Precision and recall can be used too, but AUC combines these metrics, however, these metrics will also be observed).\n",
    "\n",
    "We can also visualize errors using scikit-learn's `classification_report` and `confusion_matrix`."
   ]
  },
  {
   "cell_type": "markdown",
   "id": "30d81ea4",
   "metadata": {},
   "source": [
    "### Training \n",
    "\n",
    "3 different classifiers will be initialized:\n",
    "\n",
    "1. Random Forest\n",
    "2. Adaptive Boosting\n",
    "3. Gradient Boosting\n",
    "\n",
    "After training these models mostly using their default parameters, I will try to improve the performance of best performing one."
   ]
  },
  {
   "cell_type": "code",
   "execution_count": 24,
   "id": "3cacb3cb",
   "metadata": {},
   "outputs": [],
   "source": [
    "def train_and_evaluate(model, model_name, X_train, y_train, X_test, y_test, score_train=False):\n",
    "    \"\"\"Function that trains and evaluates the model.\n",
    "    \n",
    "    Fits the initialized model to train data. Then makes predictions \n",
    "    on test data and calculates evaluation metrics.\n",
    "    Args:\n",
    "        model (classification model): an initialized model\n",
    "        model_name (string): name of the model\n",
    "        X_train (DataFrame): input variables of train set\n",
    "        y_train (Series): target variable of train set \n",
    "        X_test (DataFrame): input variables of test set\n",
    "        y_test (Series): target variable of test set\n",
    "        score_train: if True calculates evaluation metrics for train set, default False\n",
    "    Returns:\n",
    "        dict: a dictionary that contains evaluation metrics\n",
    "    \"\"\"\n",
    "    results = {}\n",
    "    \n",
    "    print(f\"** {model_name.upper()} **\")\n",
    "    model.fit(X_train, y_train)\n",
    "    print(\"Finished  model training. Starting predictions and evaluation.\")\n",
    "    \n",
    "    y_pred = model.predict(X_test)\n",
    "    y_pred_prob = model.predict_proba(X_test)[:,1]\n",
    "    \n",
    "    if score_train:\n",
    "        y_pred_train = model.predict(X_train)\n",
    "        y_pred_prob_train = model.predict_proba(X_train)[:,1]\n",
    "\n",
    "        acc_train = accuracy_score(y_train, y_pred_train)\n",
    "        results[\"Accuracy_train\"] = acc_train\n",
    "        print(f\"\\nAccuracy Train: {acc_train:.4f}\")\n",
    "\n",
    "        roc_auc_train = roc_auc_score(y_train, y_pred_prob_train)\n",
    "        results[\"ROC_AUC_train\"] = roc_auc_train\n",
    "        print(f\"AUC Score Train: {roc_auc_train:.4f}\\n\")\n",
    "    \n",
    "    acc = accuracy_score(y_test, y_pred)\n",
    "    results[\"Accuracy\"] = acc\n",
    "    print(f\"Accuracy: {acc:.4f}\")\n",
    "    \n",
    "    roc_auc = roc_auc_score(y_test, y_pred_prob)\n",
    "    results[\"ROC_AUC\"] = roc_auc\n",
    "    print(f\"AUC Score: {roc_auc:.4f}\\n\")\n",
    "    \n",
    "    results[\"Report\"] = classification_report(y_test, y_pred, output_dict=True)\n",
    "    results[\"Conf_Matrix\"] = confusion_matrix(y_test, y_pred)\n",
    "    \n",
    "    results[\"Params\"] = model.get_params()\n",
    "    print(*results[\"Report\"][\"1\"].items(), \"\\n\")\n",
    "    plot_confusion_matrix(model, X_test, y_test, cmap=\"YlGnBu\", normalize=\"true\");\n",
    "    plt.show()\n",
    "    return results"
   ]
  },
  {
   "cell_type": "code",
   "execution_count": 25,
   "id": "ee6448a6",
   "metadata": {},
   "outputs": [
    {
     "name": "stdout",
     "output_type": "stream",
     "text": [
      "** RANDOMFOREST **\n",
      "Finished  model training. Starting predictions and evaluation.\n",
      "\n",
      "Accuracy Train: 0.9825\n",
      "AUC Score Train: 0.9987\n",
      "\n",
      "Accuracy: 0.8372\n",
      "AUC Score: 0.8895\n",
      "\n",
      "('precision', 0.651010101010101) ('recall', 0.6703068122724909) ('f1-score', 0.6605175506021009) ('support', 3846) \n",
      "\n"
     ]
    },
    {
     "data": {
      "image/png": "[encoded data removed]",
      "text/plain": [
       "<Figure size 432x288 with 2 Axes>"
      ]
     },
     "metadata": {
      "needs_background": "light"
     },
     "output_type": "display_data"
    },
    {
     "name": "stdout",
     "output_type": "stream",
     "text": [
      "** ADAPTIVEBOOSTING **\n",
      "Finished  model training. Starting predictions and evaluation.\n",
      "\n",
      "Accuracy Train: 0.8812\n",
      "AUC Score Train: 0.9590\n",
      "\n",
      "Accuracy: 0.8477\n",
      "AUC Score: 0.9154\n",
      "\n",
      "('precision', 0.6513741134751773) ('recall', 0.7641705668226729) ('f1-score', 0.7032782962431203) ('support', 3846) \n",
      "\n"
     ]
    },
    {
     "data": {
      "image/png": "[encoded data removed]",
      "text/plain": [
       "<Figure size 432x288 with 2 Axes>"
      ]
     },
     "metadata": {
      "needs_background": "light"
     },
     "output_type": "display_data"
    },
    {
     "name": "stdout",
     "output_type": "stream",
     "text": [
      "** GRADIENTBOOSTING **\n",
      "Finished  model training. Starting predictions and evaluation.\n",
      "\n",
      "Accuracy Train: 0.9030\n",
      "AUC Score Train: 0.9712\n",
      "\n",
      "Accuracy: 0.8585\n",
      "AUC Score: 0.9215\n",
      "\n",
      "('precision', 0.6817538896746818) ('recall', 0.7519500780031201) ('f1-score', 0.71513353115727) ('support', 3846) \n",
      "\n"
     ]
    },
    {
     "data": {
      "image/png": "[encoded data removed]",
      "text/plain": [
       "<Figure size 432x288 with 2 Axes>"
      ]
     },
     "metadata": {
      "needs_background": "light"
     },
     "output_type": "display_data"
    }
   ],
   "source": [
    "base_results = {}\n",
    "\n",
    "rfc = RandomForestClassifier(n_estimators=500, random_state=0)\n",
    "abc = AdaBoostClassifier(n_estimators=500, random_state=0)\n",
    "gbc = GradientBoostingClassifier(n_estimators=500,  random_state=0)\n",
    "\n",
    "models = [rfc, abc, gbc]\n",
    "model_names = [\"RandomForest\", \"AdaptiveBoosting\", \"GradientBoosting\"]\n",
    "\n",
    "for clf, name in zip(models, model_names):\n",
    "#     print(f\"** {name.upper()} **\")\n",
    "    base_results[name] = train_and_evaluate(clf, name, X_train_balanced, y_train_balanced,\n",
    "                                            X_test, y_test, score_train=True)"
   ]
  },
  {
   "cell_type": "markdown",
   "id": "c8c4571f",
   "metadata": {},
   "source": [
    "Gradient Boosting performed best; it has the best accuracy and AUC score. Also it shows relatively balanced precision and recall values which results with the highest F1-Score, that is the harmonic mean of these two metrics.\n",
    "\n",
    "Random Forest performed worst, it also overfitted to training data.\n",
    "\n",
    "I will try to improve Gradient Boosting model by hyperparameter tuning.\n",
    "\n",
    "## 4. Tuning The Chosen Model"
   ]
  },
  {
   "cell_type": "markdown",
   "id": "c951c0cf",
   "metadata": {},
   "source": [
    "Gradient Boosting Classifier’s performance is tried to be improved using hyperparameter tuning with grid search."
   ]
  },
  {
   "cell_type": "code",
   "execution_count": 29,
   "id": "ba74b3bd",
   "metadata": {},
   "outputs": [
    {
     "name": "stdout",
     "output_type": "stream",
     "text": [
      "Fitting 2 folds for each of 24 candidates, totalling 48 fits\n",
      "\n",
      "Accuracy: 0.8673\n",
      "AUC Score: 0.9242\n",
      "\n",
      "('precision', 0.722942577401429) ('recall', 0.7103484139365575) ('f1-score', 0.7165901639344262) ('support', 3846) \n",
      "\n"
     ]
    },
    {
     "data": {
      "image/png": "[encoded data removed]",
      "text/plain": [
       "<Figure size 432x288 with 2 Axes>"
      ]
     },
     "metadata": {
      "needs_background": "light"
     },
     "output_type": "display_data"
    }
   ],
   "source": [
    "parameters = {'n_estimators':[200, 500, 700], \n",
    "              'learning_rate':[0.2, 0.15, 0.1, 0.05],\n",
    "              'min_samples_split' : np.arange(2, 6, 2),\n",
    "             }\n",
    "\n",
    "gbc = GradientBoostingClassifier()\n",
    "\n",
    "model = GridSearchCV(estimator = gbc, param_grid = parameters, scoring='roc_auc',\n",
    "                     cv = 2, n_jobs = -1, verbose=3)\n",
    "\n",
    "model.fit(X_train_balanced, y_train_balanced)\n",
    "\n",
    "y_pred_tuned = model.predict(X_test)\n",
    "y_pred_prob_tuned = model.predict_proba(X_test)[:,1]\n",
    "\n",
    "acc_tuned = accuracy_score(y_test, y_pred_tuned)\n",
    "print(f\"\\nAccuracy: {acc_tuned:.4f}\")\n",
    "\n",
    "roc_auc_tuned = roc_auc_score(y_test, y_pred_prob_tuned)\n",
    "print(f\"AUC Score: {roc_auc_tuned:.4f}\\n\")\n",
    "\n",
    "print(*classification_report(y_test, y_pred_tuned, output_dict=True)[\"1\"].items(), \"\\n\")\n",
    "plot_confusion_matrix(model, X_test, y_test, cmap=\"YlGnBu\", normalize=\"true\");\n",
    "plt.show()"
   ]
  },
  {
   "cell_type": "code",
   "execution_count": 32,
   "id": "ed833719",
   "metadata": {},
   "outputs": [
    {
     "data": {
      "text/plain": [
       "{'learning_rate': 0.15, 'min_samples_split': 4, 'n_estimators': 700}"
      ]
     },
     "execution_count": 32,
     "metadata": {},
     "output_type": "execute_result"
    }
   ],
   "source": [
    "model.best_params_"
   ]
  },
  {
   "cell_type": "code",
   "execution_count": 34,
   "id": "181a5576",
   "metadata": {},
   "outputs": [
    {
     "name": "stdout",
     "output_type": "stream",
     "text": [
      "** GRADIENTBOOSTINGTUNED **\n",
      "Finished  model training. Starting predictions and evaluation.\n",
      "\n",
      "Accuracy Train: 0.9177\n",
      "AUC Score Train: 0.9788\n",
      "\n",
      "Accuracy: 0.8673\n",
      "AUC Score: 0.9242\n",
      "\n",
      "('precision', 0.7230606301297325) ('recall', 0.7100884035361414) ('f1-score', 0.7165158074248984) ('support', 3846) \n",
      "\n"
     ]
    },
    {
     "data": {
      "image/png": "[encoded data removed]",
      "text/plain": [
       "<Figure size 432x288 with 2 Axes>"
      ]
     },
     "metadata": {
      "needs_background": "light"
     },
     "output_type": "display_data"
    },
    {
     "data": {
      "text/plain": [
       "{'Accuracy_train': 0.9177184466019418,\n",
       " 'ROC_AUC_train': 0.9787519850153434,\n",
       " 'Accuracy': 0.8672685952951293,\n",
       " 'ROC_AUC': 0.9242147675452655,\n",
       " 'Report': {'0': {'precision': 0.910828534868842,\n",
       "   'recall': 0.9158825894652192,\n",
       "   'f1-score': 0.9133485705120494,\n",
       "   'support': 12435},\n",
       "  '1': {'precision': 0.7230606301297325,\n",
       "   'recall': 0.7100884035361414,\n",
       "   'f1-score': 0.7165158074248984,\n",
       "   'support': 3846},\n",
       "  'accuracy': 0.8672685952951293,\n",
       "  'macro avg': {'precision': 0.8169445824992873,\n",
       "   'recall': 0.8129854965006803,\n",
       "   'f1-score': 0.814932188968474,\n",
       "   'support': 16281},\n",
       "  'weighted avg': {'precision': 0.8664728219748788,\n",
       "   'recall': 0.8672685952951293,\n",
       "   'f1-score': 0.8668514998878136,\n",
       "   'support': 16281}},\n",
       " 'Conf_Matrix': array([[11389,  1046],\n",
       "        [ 1115,  2731]]),\n",
       " 'Params': {'ccp_alpha': 0.0,\n",
       "  'criterion': 'friedman_mse',\n",
       "  'init': None,\n",
       "  'learning_rate': 0.15,\n",
       "  'loss': 'deviance',\n",
       "  'max_depth': 3,\n",
       "  'max_features': None,\n",
       "  'max_leaf_nodes': None,\n",
       "  'min_impurity_decrease': 0.0,\n",
       "  'min_impurity_split': None,\n",
       "  'min_samples_leaf': 1,\n",
       "  'min_samples_split': 4,\n",
       "  'min_weight_fraction_leaf': 0.0,\n",
       "  'n_estimators': 700,\n",
       "  'n_iter_no_change': None,\n",
       "  'random_state': 0,\n",
       "  'subsample': 1.0,\n",
       "  'tol': 0.0001,\n",
       "  'validation_fraction': 0.1,\n",
       "  'verbose': 0,\n",
       "  'warm_start': False}}"
      ]
     },
     "execution_count": 34,
     "metadata": {},
     "output_type": "execute_result"
    }
   ],
   "source": [
    "gbc_tuned = GradientBoostingClassifier(learning_rate= 0.15, min_samples_split= 4, n_estimators= 700,\n",
    "                                       random_state=0)\n",
    "train_and_evaluate(gbc_tuned, \"GradientBoostingTuned\", X_train_balanced, y_train_balanced,\n",
    "                                            X_test, y_test, score_train=True)"
   ]
  },
  {
   "cell_type": "code",
   "execution_count": null,
   "id": "dcacbb76",
   "metadata": {},
   "outputs": [],
   "source": []
  }
 ],
 "metadata": {
  "kernelspec": {
   "display_name": "Python 3",
   "language": "python",
   "name": "python3"
  },
  "language_info": {
   "codemirror_mode": {
    "name": "ipython",
    "version": 3
   },
   "file_extension": ".py",
   "mimetype": "text/x-python",
   "name": "python",
   "nbconvert_exporter": "python",
   "pygments_lexer": "ipython3",
   "version": "3.9.4"
  }
 },
 "nbformat": 4,
 "nbformat_minor": 5
}
